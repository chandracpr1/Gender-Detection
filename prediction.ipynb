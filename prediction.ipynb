{
 "cells": [
  {
   "cell_type": "code",
   "execution_count": null,
   "metadata": {},
   "outputs": [],
   "source": [
    "from deepface import DeepFace\n",
    "import cv2"
   ]
  },
  {
   "cell_type": "code",
   "execution_count": null,
   "metadata": {},
   "outputs": [],
   "source": [
    "detectors = [\"opencv\", \"ssd\", \"mtcnn\", \"dlib\", \"retinaface\"] "
   ]
  },
  {
   "cell_type": "code",
   "execution_count": null,
   "metadata": {},
   "outputs": [],
   "source": [
    "model = load_model('gender20c.h5')"
   ]
  },
  {
   "cell_type": "code",
   "execution_count": null,
   "metadata": {},
   "outputs": [],
   "source": [
    "import cv2\n",
    "cap = cv2.VideoCapture(\"test3.mp4\")\n",
    "while cap.isOpened():\n",
    "    ret , frame = cap.read()\n",
    "    # frame = cv2.resize(frame , (1080,720))\n",
    "    if not ret:\n",
    "        print(\"Can't receive frame (stream end?). Exiting ...\")\n",
    "        cap.release()\n",
    "        cv2.destroyAllWindows()\n",
    "        break\n",
    "    rgb = cv2.cvtColor(frame , cv2.COLOR_BGR2RGB)\n",
    "    a , b , c = rgb.shape\n",
    "    print(f'a = {a } , b={b} , c={c}')\n",
    "    # resized = tf.image.resize(rgb , (120 , 120))\n",
    "    img1 = DeepFace.extract_faces( frame,detector_backend = detectors[0] , enforce_detection=False)\n",
    "    \n",
    "\n",
    "\n",
    "    for i in range(len(img1)):\n",
    "        print(i)\n",
    "        x , y  = img1[i]['facial_area']['x'] , img1[i]['facial_area']['y'] \n",
    "        w , h = img1[i]['facial_area']['w'] , img1[i]['facial_area']['h'] \n",
    "        # x = 0 if x-10 <=0 else x-10\n",
    "        # y = 0 if y-10 <=0 else y-10\n",
    "        # w=  a if w+10 >=a else w+10\n",
    "        # h = b if h+10 >=b else h+10\n",
    "        print(f'x = {x } , y={y} , w={w} , h={h}')\n",
    "        frame= cv2.rectangle(frame , (x , y) , (x+w ,y+ h), (0 , 255 , 0) ,  thickness=2  )\n",
    "        # s = img1[i]['confidence'] * 100\n",
    "        # s1 = s.round(2)\n",
    "        # s2=f'{s1}' \n",
    "\n",
    "        img2=img[y:y+h , x:x+w]\n",
    "        img2=cv2.resize(img2 , (128 , 128))\n",
    "        img2 = img2/255 \n",
    "        img2=np.expand_dims(img2,axis=0)\n",
    "        abcx=model.predict(img2)\n",
    "        a=abcx*100\n",
    "        a=a.round(2)\n",
    "        if abcx>=0.5:\n",
    "            s2=f'Female {a}'\n",
    "            print(\"female\")\n",
    "        else :\n",
    "            s2=f'Male {100-a}'\n",
    "            print(\"male\")\n",
    "\n",
    "        frame = cv2.putText(frame , s2 , (x , y+10) , cv2.FONT_HERSHEY_COMPLEX , 1.0 , ( 0, 0 , 255) , 2 )\n",
    "\n",
    "    \n",
    "\n",
    "\n",
    "\n",
    "    cv2.imshow('Facetrack',frame)\n",
    "    \n",
    "    if cv2.waitKey(1) & 0xFF== ord('q'):\n",
    "        break\n",
    "        \n",
    "cap.release()\n",
    "cv2.destroyAllWindows()"
   ]
  },
  {
   "cell_type": "code",
   "execution_count": null,
   "metadata": {},
   "outputs": [],
   "source": []
  }
 ],
 "metadata": {
  "language_info": {
   "name": "python"
  },
  "orig_nbformat": 4
 },
 "nbformat": 4,
 "nbformat_minor": 2
}
